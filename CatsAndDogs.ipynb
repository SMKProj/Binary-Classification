{
 "cells": [
  {
   "cell_type": "code",
   "execution_count": null,
   "metadata": {},
   "outputs": [],
   "source": [
    "try:\n",
    "  # This command only in Colab.\n",
    "  %tensorflow_version 2.x\n",
    "except Exception:\n",
    "  pass\n",
    "import tensorflow as tf\n",
    "from keras.callbacks import ModelCheckpoint\n",
    "from tensorflow import keras\n",
    "from keras.models import Sequential\n",
    "from keras.layers import Dense, Conv2D, Flatten, Dropout, MaxPooling2D\n",
    "from keras.preprocessing.image import ImageDataGenerator\n",
    "\n",
    "import os\n",
    "import numpy as np\n",
    "import matplotlib.pyplot as plt"
   ]
  },
  {
   "cell_type": "code",
   "execution_count": null,
   "metadata": {},
   "outputs": [],
   "source": [
    "PATH = 'cats_and_dogs'\n",
    "\n",
    "train_dir = os.path.join(PATH, 'train')\n",
    "validation_dir = os.path.join(PATH, 'validation')\n",
    "test_dir = os.path.join(PATH, 'test')\n",
    "\n",
    "# Get number of files in each directory. The train and validation directories\n",
    "# each have the subdirecories \"dogs\" and \"cats\".\n",
    "total_train = sum([len(files) for r, d, files in os.walk(train_dir)])\n",
    "total_val = sum([len(files) for r, d, files in os.walk(validation_dir)])\n",
    "total_test = len(os.listdir(test_dir))\n",
    "\n",
    "# Variables for pre-processing and training.\n",
    "batch_size = 128\n",
    "epochs = 15\n",
    "IMG_HEIGHT = 150\n",
    "IMG_WIDTH = 150"
   ]
  },
  {
   "cell_type": "code",
   "execution_count": null,
   "metadata": {},
   "outputs": [],
   "source": [
    "print(train_dir)\n",
    "print(validation_dir)\n",
    "print(test_dir)"
   ]
  },
  {
   "cell_type": "code",
   "execution_count": null,
   "metadata": {},
   "outputs": [],
   "source": [
    "train_image_generator = ImageDataGenerator(rescale=1./255)\n",
    "train_data_gen = train_image_generator.flow_from_directory(batch_size=batch_size,directory=train_dir,\n",
    "                                                     target_size=(IMG_HEIGHT, IMG_WIDTH),\n",
    "                                                     class_mode='binary')"
   ]
  },
  {
   "cell_type": "code",
   "execution_count": null,
   "metadata": {},
   "outputs": [],
   "source": [
    "validation_image_generator = ImageDataGenerator(rescale=1./255)\n",
    "val_data_gen = validation_image_generator.flow_from_directory(batch_size=batch_size,\n",
    "                                                     directory=validation_dir,\n",
    "                                                     target_size=(IMG_HEIGHT, IMG_WIDTH),\n",
    "                                                     class_mode='binary')"
   ]
  },
  {
   "cell_type": "code",
   "execution_count": null,
   "metadata": {},
   "outputs": [],
   "source": [
    "test_image_generator = ImageDataGenerator(rescale=1./255) \n",
    "test_data_gen = test_image_generator.flow_from_directory(batch_size=batch_size,directory=test_dir,\n",
    "                                                     target_size=(IMG_HEIGHT, IMG_WIDTH),\n",
    "                                                     class_mode='binary')"
   ]
  },
  {
   "cell_type": "code",
   "execution_count": null,
   "metadata": {},
   "outputs": [],
   "source": [
    "print(len(train_data_gen))\n",
    "print(len(val_data_gen))\n",
    "print(len(test_data_gen))"
   ]
  },
  {
   "cell_type": "code",
   "execution_count": null,
   "metadata": {},
   "outputs": [],
   "source": [
    "def plotImages(images_arr, probabilities = False):\n",
    "    fig, axes = plt.subplots(len(images_arr), 1, figsize=(5,len(images_arr) * 3))\n",
    "    if probabilities is False:\n",
    "      for img, ax in zip( images_arr, axes):\n",
    "          ax.imshow(img)\n",
    "          ax.axis('off')\n",
    "    else:\n",
    "      for img, probability, ax in zip( images_arr, probabilities, axes):\n",
    "          ax.imshow(img)\n",
    "          ax.axis('off')\n",
    "          if probability > 0.5:\n",
    "              ax.set_title(\"%.2f\" % (probability*100) + \"% dog\")\n",
    "          else:\n",
    "              ax.set_title(\"%.2f\" % ((1-probability)*100) + \"% cat\")\n",
    "    plt.show()\n",
    "\n",
    "sample_training_images, _ = next(train_data_gen)\n",
    "plotImages(sample_training_images[:5])"
   ]
  },
  {
   "cell_type": "code",
   "execution_count": null,
   "metadata": {},
   "outputs": [],
   "source": [
    "train_image_generator = ImageDataGenerator(vertical_flip=True, horizontal_flip=True, rescale=1./255)\n"
   ]
  },
  {
   "cell_type": "code",
   "execution_count": null,
   "metadata": {},
   "outputs": [],
   "source": [
    "train_data_gen = train_image_generator.flow_from_directory(batch_size=batch_size,\n",
    "                                                     directory=train_dir,\n",
    "                                                     target_size=(IMG_HEIGHT, IMG_WIDTH),\n",
    "                                                     class_mode='binary')\n",
    "\n",
    "augmented_images = [train_data_gen[0][0][0] for i in range(5)]\n",
    "\n",
    "#plotImages(augmented_images)"
   ]
  },
  {
   "cell_type": "code",
   "execution_count": 182,
   "metadata": {},
   "outputs": [
    {
     "name": "stdout",
     "output_type": "stream",
     "text": [
      "Model: \"sequential_24\"\n",
      "_________________________________________________________________\n",
      " Layer (type)                Output Shape              Param #   \n",
      "=================================================================\n",
      " conv2d_104 (Conv2D)         (None, 148, 148, 16)      448       \n",
      "                                                                 \n",
      " max_pooling2d_82 (MaxPoolin  (None, 74, 74, 16)       0         \n",
      " g2D)                                                            \n",
      "                                                                 \n",
      " conv2d_105 (Conv2D)         (None, 72, 72, 32)        4640      \n",
      "                                                                 \n",
      " max_pooling2d_83 (MaxPoolin  (None, 36, 36, 32)       0         \n",
      " g2D)                                                            \n",
      "                                                                 \n",
      " conv2d_106 (Conv2D)         (None, 34, 34, 64)        18496     \n",
      "                                                                 \n",
      " max_pooling2d_84 (MaxPoolin  (None, 17, 17, 64)       0         \n",
      " g2D)                                                            \n",
      "                                                                 \n",
      " conv2d_107 (Conv2D)         (None, 15, 15, 64)        36928     \n",
      "                                                                 \n",
      " max_pooling2d_85 (MaxPoolin  (None, 7, 7, 64)         0         \n",
      " g2D)                                                            \n",
      "                                                                 \n",
      " conv2d_108 (Conv2D)         (None, 5, 5, 64)          36928     \n",
      "                                                                 \n",
      " max_pooling2d_86 (MaxPoolin  (None, 2, 2, 64)         0         \n",
      " g2D)                                                            \n",
      "                                                                 \n",
      " flatten_23 (Flatten)        (None, 256)               0         \n",
      "                                                                 \n",
      " dense_45 (Dense)            (None, 512)               131584    \n",
      "                                                                 \n",
      " dropout_21 (Dropout)        (None, 512)               0         \n",
      "                                                                 \n",
      " dense_46 (Dense)            (None, 1)                 513       \n",
      "                                                                 \n",
      "=================================================================\n",
      "Total params: 229,537\n",
      "Trainable params: 229,537\n",
      "Non-trainable params: 0\n",
      "_________________________________________________________________\n"
     ]
    }
   ],
   "source": [
    "from keras.layers import BatchNormalization\n",
    "\n",
    "model = Sequential()\n",
    "# conv # 1\n",
    "model.add(keras.layers.Conv2D(16,(3,3), activation=\"relu\",input_shape = (150,150,3))) #148\n",
    "model.add(keras.layers.MaxPooling2D(2,2)) #74\n",
    "\n",
    "# conv # 2\n",
    "model.add(keras.layers.Conv2D(32, (3,3),activation=\"relu\")) #72\n",
    "model.add(keras.layers.MaxPooling2D(2,2))#36\n",
    "# conv # 3\n",
    "model.add(keras.layers.Conv2D(64, (3,3),activation=\"relu\")) #34\n",
    "model.add(keras.layers.MaxPooling2D(2,2))#16\n",
    "\n",
    "model.add(keras.layers.Conv2D(64, (3,3),activation=\"relu\")) #14\n",
    "model.add(keras.layers.MaxPooling2D(2,2))#7\n",
    "\n",
    "model.add(keras.layers.Conv2D(64, (3,3),activation=\"relu\")) #5\n",
    "model.add(keras.layers.MaxPooling2D(2,2))#3\n",
    "\n",
    "model.add(keras.layers.Flatten())\n",
    "\n",
    "model.add(keras.layers.Dense(512, activation='relu'))\n",
    "model.add(keras.layers.Dropout(0.3))\n",
    "#model.add(keras.layers.BatchNormalization())\n",
    "model.add(keras.layers.Dense(1, activation='sigmoid'))\n",
    "model.summary()"
   ]
  },
  {
   "cell_type": "code",
   "execution_count": null,
   "metadata": {},
   "outputs": [],
   "source": [
    "from keras.utils.vis_utils import plot_model\n",
    "from PIL import Image\n",
    "\n",
    "plot_model(model, to_file='cnn_model.png', show_shapes=True, show_layer_names=True, show_layer_activations=True)\n",
    "display(Image.open('cnn_model.png'))"
   ]
  },
  {
   "cell_type": "code",
   "execution_count": 183,
   "metadata": {},
   "outputs": [],
   "source": [
    "model.compile(optimizer=keras.optimizers.RMSprop(learning_rate=0.001), loss='binary_crossentropy', metrics=[\"accuracy\"])\n",
    "#model.compile(loss=keras.losses.BinaryCrossentropy(from_logits=True), optimizer='adam', metrics=['accuracy'])\n",
    "#model.compile(loss='categorical_crossentropy', optimizer='adam', metrics=['accuracy'])"
   ]
  },
  {
   "cell_type": "code",
   "execution_count": 184,
   "metadata": {},
   "outputs": [
    {
     "name": "stdout",
     "output_type": "stream",
     "text": [
      "Epoch 1/15\n",
      "15/15 [==============================] - 72s 4s/step - loss: 0.7007 - accuracy: 0.5027 - val_loss: 0.6915 - val_accuracy: 0.5067\n",
      "Epoch 2/15\n",
      "15/15 [==============================] - 58s 4s/step - loss: 0.6932 - accuracy: 0.5037 - val_loss: 0.6906 - val_accuracy: 0.5737\n",
      "Epoch 3/15\n",
      "15/15 [==============================] - 59s 4s/step - loss: 0.6915 - accuracy: 0.5385 - val_loss: 0.6951 - val_accuracy: 0.5067\n",
      "Epoch 4/15\n",
      "15/15 [==============================] - 58s 4s/step - loss: 0.7849 - accuracy: 0.5668 - val_loss: 0.6674 - val_accuracy: 0.6004\n",
      "Epoch 5/15\n",
      "15/15 [==============================] - 58s 4s/step - loss: 0.6808 - accuracy: 0.5903 - val_loss: 0.6578 - val_accuracy: 0.6071\n",
      "Epoch 6/15\n",
      "15/15 [==============================] - 58s 4s/step - loss: 0.6745 - accuracy: 0.5828 - val_loss: 0.6551 - val_accuracy: 0.6261\n",
      "Epoch 7/15\n",
      "15/15 [==============================] - 57s 4s/step - loss: 0.6661 - accuracy: 0.6047 - val_loss: 0.6505 - val_accuracy: 0.6071\n",
      "Epoch 8/15\n",
      "15/15 [==============================] - 57s 4s/step - loss: 0.6770 - accuracy: 0.5892 - val_loss: 0.6647 - val_accuracy: 0.6440\n",
      "Epoch 9/15\n",
      "15/15 [==============================] - 57s 4s/step - loss: 0.6661 - accuracy: 0.5887 - val_loss: 0.6228 - val_accuracy: 0.6540\n",
      "Epoch 10/15\n",
      "15/15 [==============================] - 57s 4s/step - loss: 0.6571 - accuracy: 0.6127 - val_loss: 0.6507 - val_accuracy: 0.5703\n",
      "Epoch 11/15\n",
      "15/15 [==============================] - 56s 4s/step - loss: 0.6501 - accuracy: 0.6191 - val_loss: 0.6216 - val_accuracy: 0.6496\n",
      "Epoch 12/15\n",
      "15/15 [==============================] - 57s 4s/step - loss: 0.6211 - accuracy: 0.6549 - val_loss: 0.6426 - val_accuracy: 0.6350\n",
      "Epoch 13/15\n",
      "15/15 [==============================] - 53s 3s/step - loss: 0.6155 - accuracy: 0.6597 - val_loss: 0.6439 - val_accuracy: 0.6518\n",
      "Epoch 14/15\n",
      "15/15 [==============================] - 55s 4s/step - loss: 0.6220 - accuracy: 0.6426 - val_loss: 0.5919 - val_accuracy: 0.6674\n",
      "Epoch 15/15\n",
      "15/15 [==============================] - 55s 4s/step - loss: 0.6157 - accuracy: 0.6645 - val_loss: 0.5945 - val_accuracy: 0.6685\n"
     ]
    }
   ],
   "source": [
    "epochs_steps = train_data_gen.n // train_data_gen.batch_size # 2000 images  = batchsize * steps\n",
    "val_steps = val_data_gen.n//val_data_gen.batch_size  # 1000 images  = batchsize * steps\n",
    "history=model.fit(train_data_gen, epochs=15, validation_data=val_data_gen, steps_per_epoch=epochs_steps, validation_steps=val_steps )"
   ]
  },
  {
   "cell_type": "code",
   "execution_count": 185,
   "metadata": {},
   "outputs": [
    {
     "data": {
      "image/png": "[encoded data removed]",
      "text/plain": [
       "<Figure size 576x576 with 2 Axes>"
      ]
     },
     "metadata": {
      "needs_background": "light"
     },
     "output_type": "display_data"
    }
   ],
   "source": [
    "acc = history.history['accuracy']\n",
    "val_acc = history.history['val_accuracy']\n",
    "\n",
    "loss = history.history['loss']\n",
    "val_loss = history.history['val_loss']\n",
    "\n",
    "epochs_range = range(epochs)\n",
    "\n",
    "plt.figure(figsize=(8, 8))\n",
    "plt.subplot(1, 2, 1)\n",
    "plt.plot(epochs_range, acc, label='Training Accuracy')\n",
    "plt.plot(epochs_range, val_acc, label='Validation Accuracy')\n",
    "plt.legend(loc='lower right')\n",
    "plt.title('Training and Validation Accuracy')\n",
    "\n",
    "plt.subplot(1, 2, 2)\n",
    "plt.plot(epochs_range, loss, label='Training Loss')\n",
    "plt.plot(epochs_range, val_loss, label='Validation Loss')\n",
    "plt.legend(loc='upper right')\n",
    "plt.title('Training and Validation Loss')\n",
    "plt.show()"
   ]
  },
  {
   "cell_type": "code",
   "execution_count": 187,
   "metadata": {},
   "outputs": [
    {
     "name": "stdout",
     "output_type": "stream",
     "text": [
      "1/1 [==============================] - 1s 696ms/step - loss: 1.0431 - accuracy: 0.6400\n",
      "Accuracy for test images are:  0.6399999856948853\n"
     ]
    }
   ],
   "source": [
    "test_loss, test_accuracy = model.evaluate(test_data_gen, verbose=1)\n",
    "print(\"Accuracy for test images are: \", test_accuracy)"
   ]
  },
  {
   "cell_type": "code",
   "execution_count": 188,
   "metadata": {},
   "outputs": [
    {
     "name": "stdout",
     "output_type": "stream",
     "text": [
      "1/1 - 1s - 1s/epoch - 1s/step\n"
     ]
    }
   ],
   "source": [
    "probabilities = model.predict(test_data_gen, verbose=2)\n"
   ]
  },
  {
   "cell_type": "code",
   "execution_count": null,
   "metadata": {},
   "outputs": [],
   "source": [
    "import numpy as np"
   ]
  },
  {
   "cell_type": "code",
   "execution_count": 189,
   "metadata": {},
   "outputs": [
    {
     "name": "stdout",
     "output_type": "stream",
     "text": [
      "Correct:  26\n",
      "Your model correctly identified 0.52% of the images of cats and dogs.\n",
      "You haven't passed yet. Your model should identify at least 63% of the images. Keep trying. You will get it!\n"
     ]
    }
   ],
   "source": [
    "\n",
    "answers =  [1, 0, 0, 1, 0, 0, 0, 0, 1, 1, 0,\n",
    "            1, 0, 1, 0, 1, 1, 0, 1, 1, 0, 0,\n",
    "            1, 1, 1, 1, 1, 0, 0, 0, 0, 0, 1,\n",
    "            1, 0, 1, 1, 1, 1, 0, 1, 0, 1, 1, \n",
    "            0, 0, 0, 0, 0, 0]\n",
    "\n",
    "correct = 0\n",
    "\n",
    "for probability, answer in zip(probabilities, answers):\n",
    "  if np.round(probability) == answer:\n",
    "        correct +=1\n",
    "\n",
    "print('Correct: ', correct)\n",
    "percentage_identified = (correct / len(answers))\n",
    "\n",
    "passed_challenge = percentage_identified > 0.63\n",
    "\n",
    "print(f\"Your model correctly identified {round(percentage_identified, 2)}% of the images of cats and dogs.\")\n",
    "\n",
    "if passed_challenge:\n",
    "  print(\"You passed the challenge!\")\n",
    "else:\n",
    "  print(\"You haven't passed yet. Your model should identify at least 63% of the images. Keep trying. You will get it!\")"
   ]
  }
 ],
 "metadata": {
  "kernelspec": {
   "display_name": "Python 3.10.2 64-bit",
   "language": "python",
   "name": "python3"
  },
  "language_info": {
   "codemirror_mode": {
    "name": "ipython",
    "version": 3
   },
   "file_extension": ".py",
   "mimetype": "text/x-python",
   "name": "python",
   "nbconvert_exporter": "python",
   "pygments_lexer": "ipython3",
   "version": "3.10.2"
  },
  "orig_nbformat": 4,
  "vscode": {
   "interpreter": {
    "hash": "13359a6c2d6277580bce110e3ff6aacc30c1140239f2079fd5c49ab9c5700d6f"
   }
  }
 },
 "nbformat": 4,
 "nbformat_minor": 2
}
